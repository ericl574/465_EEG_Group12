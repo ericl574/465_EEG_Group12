{
 "cells": [
  {
   "cell_type": "markdown",
   "metadata": {},
   "source": [
    "# EEG Project Group 12"
   ]
  },
  {
   "cell_type": "markdown",
   "metadata": {},
   "source": [
    "## Obtaining Data and Performing Preprocessing\n"
   ]
  },
  {
   "cell_type": "markdown",
   "metadata": {},
   "source": [
    "### Importing Required Libraries"
   ]
  },
  {
   "cell_type": "markdown",
   "metadata": {},
   "source": [
    "From here upto and including EEG Feature Extraction was taken from the sample example"
   ]
  },
  {
   "cell_type": "code",
   "execution_count": 1,
   "metadata": {},
   "outputs": [],
   "source": [
    "import numpy as np\n",
    "import matplotlib.pyplot as plt\n",
    "import pandas as pd\n",
    "import tensorflow as tf\n",
    "import tensorflow.keras as kr\n",
    "import seaborn as sns\n",
    "import os"
   ]
  },
  {
   "cell_type": "markdown",
   "metadata": {},
   "source": [
    "### Import the Dataset"
   ]
  },
  {
   "cell_type": "code",
   "execution_count": null,
   "metadata": {},
   "outputs": [
    {
     "name": "stdout",
     "output_type": "stream",
     "text": [
      "/Users/ericl/Desktop/4th_Year/MANU 465/465_EEG_Group12\n",
      "['/Users/ericl/Desktop/4th_Year/MANU 465/465_EEG_Group12/data/sour/6.csv', '/Users/ericl/Desktop/4th_Year/MANU 465/465_EEG_Group12/data/sour/5.csv', '/Users/ericl/Desktop/4th_Year/MANU 465/465_EEG_Group12/data/sour/4.csv', '/Users/ericl/Desktop/4th_Year/MANU 465/465_EEG_Group12/data/sour/1.csv', '/Users/ericl/Desktop/4th_Year/MANU 465/465_EEG_Group12/data/sour/3.csv', '/Users/ericl/Desktop/4th_Year/MANU 465/465_EEG_Group12/data/sour/2.csv']\n",
      "                     TimeStamp  Delta_TP9  Delta_AF7  Delta_AF8  Delta_TP10  \\\n",
      "0      2024-11-21 02:13:15.650        NaN        NaN        NaN         NaN   \n",
      "1      2024-11-21 02:13:15.679   1.353651   0.868130    0.00000    0.705829   \n",
      "2      2024-11-21 02:13:15.680   1.353651   0.868130    0.00000    0.705829   \n",
      "3      2024-11-21 02:13:15.680   1.353651   0.868130    0.00000    0.705829   \n",
      "4      2024-11-21 02:13:15.680   1.353651   0.868130    0.00000    0.705829   \n",
      "...                        ...        ...        ...        ...         ...   \n",
      "41474  2024-11-21 02:15:57.433   1.713207   0.529574    0.83422    0.860527   \n",
      "41475  2024-11-21 02:15:57.433   1.713207   0.529574    0.83422    0.860527   \n",
      "41476  2024-11-21 02:15:57.433   1.713207   0.529574    0.83422    0.860527   \n",
      "41477  2024-11-21 02:15:57.434   1.713207   0.529574    0.83422    0.860527   \n",
      "41478  2024-11-21 02:15:57.434   1.713207   0.529574    0.83422    0.860527   \n",
      "\n",
      "       Theta_TP9  Theta_AF7  Theta_AF8  Theta_TP10  Alpha_TP9  ...    Gyro_X  \\\n",
      "0            NaN        NaN        NaN         NaN        NaN  ...       NaN   \n",
      "1       1.230388   0.541906   0.000000    0.483529   0.688970  ...  3.349609   \n",
      "2       1.230388   0.541906   0.000000    0.483529   0.688970  ...  3.349609   \n",
      "3       1.230388   0.541906   0.000000    0.483529   0.688970  ...  3.349609   \n",
      "4       1.230388   0.541906   0.000000    0.483529   0.688970  ...  3.349609   \n",
      "...          ...        ...        ...         ...        ...  ...       ...   \n",
      "41474   1.694208  -0.061052   0.705663    0.657951   1.625345  ... -6.123505   \n",
      "41475   1.694208  -0.061052   0.705663    0.657951   1.625345  ... -6.123505   \n",
      "41476   1.694208  -0.061052   0.705663    0.657951   1.625345  ... -6.123505   \n",
      "41477   1.694208  -0.061052   0.705663    0.657951   1.625345  ... -6.123505   \n",
      "41478   1.694208  -0.061052   0.705663    0.657951   1.625345  ... -6.123505   \n",
      "\n",
      "          Gyro_Y     Gyro_Z  HeadBandOn  HSI_TP9  HSI_AF7  HSI_AF8  HSI_TP10  \\\n",
      "0            NaN        NaN         NaN      NaN      NaN      NaN       NaN   \n",
      "1       1.271057  -0.687866         1.0      1.0      1.0      1.0       1.0   \n",
      "2       1.271057  -0.687866         1.0      1.0      1.0      1.0       1.0   \n",
      "3       1.271057  -0.687866         1.0      1.0      1.0      1.0       1.0   \n",
      "4       1.271057  -0.687866         1.0      1.0      1.0      1.0       1.0   \n",
      "...          ...        ...         ...      ...      ...      ...       ...   \n",
      "41474 -11.342316  12.949829         1.0      1.0      2.0      4.0       1.0   \n",
      "41475 -11.342316  12.949829         1.0      1.0      2.0      4.0       1.0   \n",
      "41476 -11.342316  12.949829         1.0      1.0      2.0      4.0       1.0   \n",
      "41477 -11.342316  12.949829         1.0      1.0      2.0      4.0       1.0   \n",
      "41478 -11.342316  12.949829         1.0      1.0      2.0      4.0       1.0   \n",
      "\n",
      "       Battery                         Elements  \n",
      "0          NaN  /muse/event/connected Muse-9E89  \n",
      "1         15.0                              NaN  \n",
      "2         15.0                              NaN  \n",
      "3         15.0                              NaN  \n",
      "4         15.0                              NaN  \n",
      "...        ...                              ...  \n",
      "41474     10.0                              NaN  \n",
      "41475     10.0                              NaN  \n",
      "41476     10.0                              NaN  \n",
      "41477     10.0                              NaN  \n",
      "41478     10.0                              NaN  \n",
      "\n",
      "[41479 rows x 39 columns]\n",
      "                     TimeStamp  Delta_TP9  Delta_AF7  Delta_AF8  Delta_TP10  \\\n",
      "0      2024-11-21 02:33:55.721        NaN        NaN        NaN         NaN   \n",
      "1      2024-11-21 02:33:55.747   0.639075   1.002148   1.338088    1.407827   \n",
      "2      2024-11-21 02:33:55.748   0.639075   1.002148   1.338088    1.407827   \n",
      "3      2024-11-21 02:33:55.748   0.639075   1.002148   1.338088    1.407827   \n",
      "4      2024-11-21 02:33:55.748   0.639075   1.002148   1.338088    1.407827   \n",
      "...                        ...        ...        ...        ...         ...   \n",
      "41287  2024-11-21 02:36:36.772  -0.092681   0.344325   0.202970    0.364843   \n",
      "41288  2024-11-21 02:36:36.773  -0.092681   0.344325   0.202970    0.364843   \n",
      "41289  2024-11-21 02:36:36.773  -0.092681   0.344325   0.202970    0.364843   \n",
      "41290  2024-11-21 02:36:36.773  -0.092681   0.344325   0.202970    0.364843   \n",
      "41291  2024-11-21 02:36:36.773  -0.092681   0.344325   0.202970    0.364843   \n",
      "\n",
      "       Theta_TP9  Theta_AF7  Theta_AF8  Theta_TP10  Alpha_TP9  ...    Gyro_X  \\\n",
      "0            NaN        NaN        NaN         NaN        NaN  ...       NaN   \n",
      "1       0.575536   0.651579   0.170934    1.208973   0.443622  ...  7.469330   \n",
      "2       0.575536   0.651579   0.170934    1.208973   0.443622  ...  7.469330   \n",
      "3       0.575536   0.651579   0.170934    1.208973   0.443622  ...  7.469330   \n",
      "4       0.575536   0.651579   0.170934    1.208973   0.443622  ...  7.469330   \n",
      "...          ...        ...        ...         ...        ...  ...       ...   \n",
      "41287   0.233187  -0.237916  -0.103932    0.106760   0.325772  ...  0.358887   \n",
      "41288   0.233187  -0.237916  -0.103932    0.106760   0.325772  ...  0.358887   \n",
      "41289   0.233187  -0.237916  -0.103932    0.106760   0.325772  ...  0.358887   \n",
      "41290   0.233187  -0.237916  -0.103932    0.106760   0.325772  ...  0.358887   \n",
      "41291   0.233187  -0.237916  -0.103932    0.106760   0.325772  ...  0.358887   \n",
      "\n",
      "         Gyro_Y    Gyro_Z  HeadBandOn  HSI_TP9  HSI_AF7  HSI_AF8  HSI_TP10  \\\n",
      "0           NaN       NaN         NaN      NaN      NaN      NaN       NaN   \n",
      "1      4.889832  3.095398         1.0      1.0      1.0      1.0       1.0   \n",
      "2      4.889832  3.095398         1.0      1.0      1.0      1.0       1.0   \n",
      "3      4.889832  3.095398         1.0      1.0      1.0      1.0       1.0   \n",
      "4      4.889832  3.095398         1.0      1.0      1.0      1.0       1.0   \n",
      "...         ...       ...         ...      ...      ...      ...       ...   \n",
      "41287 -0.037384  0.964508         1.0      2.0      1.0      1.0       2.0   \n",
      "41288 -0.037384  0.964508         1.0      2.0      1.0      1.0       2.0   \n",
      "41289 -0.037384  0.964508         1.0      2.0      1.0      1.0       2.0   \n",
      "41290 -0.037384  0.964508         1.0      2.0      1.0      1.0       2.0   \n",
      "41291 -0.037384  0.964508         1.0      2.0      1.0      1.0       2.0   \n",
      "\n",
      "       Battery                         Elements  \n",
      "0          NaN  /muse/event/connected Muse-9E89  \n",
      "1         20.0                              NaN  \n",
      "2         20.0                              NaN  \n",
      "3         20.0                              NaN  \n",
      "4         20.0                              NaN  \n",
      "...        ...                              ...  \n",
      "41287     15.0                              NaN  \n",
      "41288     15.0                              NaN  \n",
      "41289     15.0                              NaN  \n",
      "41290     15.0                              NaN  \n",
      "41291     15.0                              NaN  \n",
      "\n",
      "[41292 rows x 39 columns]\n",
      "CPU times: user 404 ms, sys: 54.8 ms, total: 459 ms\n",
      "Wall time: 498 ms\n"
     ]
    }
   ],
   "source": [
    "%%time\n",
    "#Get Current Working directory and append the data relative dir\n",
    "cwd = os.getcwd()\n",
    "print(cwd)\n",
    "Salt = cwd + r\"/data/salt\"\n",
    "Sour = cwd + r\"/data/sour\"\n",
    "\n",
    "#Hold file locations\n",
    "filesSour=[];\n",
    "filesSalt=[]; #add more later\n",
    "\n",
    "\n",
    "#populate file location arrays\n",
    "for file in os.listdir(Salt):\n",
    "    if file.endswith('csv'):\n",
    "        filesSalt.append(os.path.join(Salt,file))\n",
    "for file in os.listdir(Sour):\n",
    "    if file.endswith('csv'):\n",
    "        filesSour.append(os.path.join(Sour,file))\n",
    "#Test reading files by changing num\n",
    "\n",
    "num = 5;\n",
    "Salt_sample = pd.read_csv(filesSalt[num])\n",
    "Sour_sample =  pd.read_csv(filesSour[num])\n",
    "print(Salt_sample)\n",
    "print(Sour_sample)\n",
    "\n"
   ]
  },
  {
   "cell_type": "code",
   "execution_count": 3,
   "metadata": {},
   "outputs": [
    {
     "name": "stdout",
     "output_type": "stream",
     "text": [
      ">0 files were added from the Spicy category\n",
      ">0 files were added from the Salty category\n"
     ]
    }
   ],
   "source": [
    "#Mini-Summary of Block\n",
    "print(f\">{len(filesSpicy)} files were added from the Spicy category\")\n",
    "print(f\">{len(filesSalty)} files were added from the Salty category\")\n",
    "\n"
   ]
  },
  {
   "cell_type": "markdown",
   "metadata": {},
   "source": [
    "### Available Features"
   ]
  },
  {
   "cell_type": "code",
   "execution_count": 4,
   "metadata": {},
   "outputs": [
    {
     "name": "stdout",
     "output_type": "stream",
     "text": [
      "Features generated by the Muse 2 headband:\n"
     ]
    },
    {
     "ename": "NameError",
     "evalue": "name 'sample' is not defined",
     "output_type": "error",
     "traceback": [
      "\u001b[0;31m---------------------------------------------------------------------------\u001b[0m",
      "\u001b[0;31mNameError\u001b[0m                                 Traceback (most recent call last)",
      "Cell \u001b[0;32mIn[4], line 2\u001b[0m\n\u001b[1;32m      1\u001b[0m \u001b[38;5;28mprint\u001b[39m(\u001b[38;5;124m\"\u001b[39m\u001b[38;5;124mFeatures generated by the Muse 2 headband:\u001b[39m\u001b[38;5;124m\"\u001b[39m)\n\u001b[0;32m----> 2\u001b[0m pd\u001b[38;5;241m.\u001b[39mDataFrame(\u001b[43msample\u001b[49m\u001b[38;5;241m.\u001b[39mcolumns)\u001b[38;5;241m.\u001b[39mT\n",
      "\u001b[0;31mNameError\u001b[0m: name 'sample' is not defined"
     ]
    }
   ],
   "source": [
    "print(\"Features generated by the Muse 2 headband:\")\n",
    "pd.DataFrame(sample.columns).T"
   ]
  },
  {
   "cell_type": "markdown",
   "metadata": {},
   "source": [
    "### Creating the RAW Dataset"
   ]
  },
  {
   "cell_type": "code",
   "execution_count": null,
   "metadata": {},
   "outputs": [],
   "source": [
    "%%time\n",
    "#Extract rows 21-25 from all files,\n",
    "#these are the only 5 features relevant for use in the EEG_feature_extraction function\n",
    "rowsSpicy=[];\n",
    "for f in filesSpicy:\n",
    "    for r in range(pd.read_csv(f).shape[0]):\n",
    "        rowsSpicy.append(pd.read_csv(f).iloc[r,[0,21,22,23,24,25]])\n",
    "rowsSalty=[];\n",
    "for f in filesSalty:\n",
    "    for r in range(pd.read_csv(f).shape[0]):\n",
    "        rowsSalty.append(pd.read_csv(f).iloc[r,[0,21,22,23,24,25]])\n"
   ]
  },
  {
   "cell_type": "code",
   "execution_count": null,
   "metadata": {},
   "outputs": [],
   "source": [
    "#Convert to DataFrames\n",
    "data_Spicy = pd.DataFrame(rowsSpicy);\n",
    "original_Spicy = data_Spicy.copy();\n",
    "data_Spicy"
   ]
  },
  {
   "cell_type": "code",
   "execution_count": null,
   "metadata": {},
   "outputs": [],
   "source": [
    "#Convert to DataFrames\n",
    "data_Salty = pd.DataFrame(rowsSalty);\n",
    "original_Salty = data_Salty.copy();\n",
    "data_Salty"
   ]
  },
  {
   "cell_type": "code",
   "execution_count": null,
   "metadata": {},
   "outputs": [],
   "source": [
    "#quick check of DataFrames\n",
    "print(f\"Spicy data size is: \\t{data_Spicy.shape}\",f\"\\nSalty data size is: \\t{data_Salty.shape}\")"
   ]
  },
  {
   "cell_type": "markdown",
   "metadata": {},
   "source": [
    "### Remove Empty Rows"
   ]
  },
  {
   "cell_type": "code",
   "execution_count": null,
   "metadata": {},
   "outputs": [],
   "source": [
    "#Remove NaN values\n",
    "data_Spicy = data_Spicy.dropna()\n",
    "data_Salty = data_Salty.dropna()"
   ]
  },
  {
   "cell_type": "markdown",
   "metadata": {},
   "source": [
    "### Convert Datetime Column to Timestamps"
   ]
  },
  {
   "cell_type": "code",
   "execution_count": null,
   "metadata": {},
   "outputs": [],
   "source": [
    "#Required for compatibility with EEG_feature_extraction function\n",
    "from datetime import datetime\n",
    "\n",
    "i = 0;\n",
    "for time in data_Spicy.iloc[:,0]:\n",
    "    tmstmp = datetime.strptime(str(time),'%Y-%m-%d %H:%M:%S.%f').timestamp()\n",
    "    data_Spicy.iat[i,0] = (tmstmp);\n",
    "i=i+1;\n",
    "\n",
    "i = 0;\n",
    "for time in data_Salty.iloc[:,0]:\n",
    "    tmstmp = datetime.strptime(str(time),'%Y-%m-%d %H:%M:%S.%f').timestamp()\n",
    "    data_Salty.iat[i,0] = (tmstmp);\n",
    "i=i+1;\n"
   ]
  },
  {
   "cell_type": "code",
   "execution_count": null,
   "metadata": {},
   "outputs": [],
   "source": [
    "#Quick Check\n",
    "data_Spicy.head()"
   ]
  },
  {
   "cell_type": "markdown",
   "metadata": {},
   "source": [
    "### Save Data to File"
   ]
  },
  {
   "cell_type": "markdown",
   "metadata": {},
   "source": [
    "Alternative STARTING POINT once data collection is finalized. This step was done to bypass having to run the previous section each time which would take a very long time."
   ]
  },
  {
   "cell_type": "code",
   "execution_count": null,
   "metadata": {},
   "outputs": [],
   "source": [
    "savelocSpicy = cwd + r\"\\Data\\Preprocessed\\Spicy.csv\"\n",
    "savelocSalty = cwd + r\"\\Data\\Preprocessed\\Salty.csv\"\n",
    "\n",
    "if os.path.exists(savelocSpicy):\n",
    "    os.remove(savelocSpicy)\n",
    "if os.path.exists(savelocSalty):\n",
    "    os.remove(savelocSalty)\n",
    "data_Spicy.to_csv(savelocSpicy, mode='w', index = False)\n",
    "data_Salty.to_csv(savelocSalty, mode='w', index = False)\n",
    "\n",
    "\n"
   ]
  },
  {
   "cell_type": "markdown",
   "metadata": {},
   "source": [
    "### EEG Feature Generation"
   ]
  },
  {
   "cell_type": "code",
   "execution_count": null,
   "metadata": {},
   "outputs": [],
   "source": [
    "from eegFG import EEG_feature_extraction as FG\n",
    "\n",
    "#try various combinations of Nsamp and Perio\n",
    "Nsamp = 50;\n",
    "Perio = 6;\n",
    "\n",
    "xSpicy,ySpicy = FG.generate_feature_vectors_from_samples(file_path=savelocSpicy,\n",
    "                                                         nsamples=Nsamp,\n",
    "                                                         period=Perio,\n",
    "                                                         #state=data_Spicy.iloc[:,-1],\n",
    "                                                         slide_percent=0.05,\n",
    "                                                         remove_redundant=False,\n",
    "                                                         cols_to_ignore=None)\n",
    "xSpicy.shape\n"
   ]
  },
  {
   "cell_type": "code",
   "execution_count": null,
   "metadata": {},
   "outputs": [],
   "source": [
    "#try various combinations of Nsamp and Perio\n",
    "Nsamp = 50;\n",
    "Perio = 5;\n",
    "\n",
    "xSalty,ySalty = FG.generate_feature_vectors_from_samples(file_path=savelocSalty,\n",
    "                                                         nsamples=Nsamp,\n",
    "                                                         period=Perio,\n",
    "                                                         #state=data_Salty.iloc[:,-1],\n",
    "                                                         slide_percent=0.06,\n",
    "                                                         remove_redundant=False,\n",
    "                                                         cols_to_ignore=None)\n",
    "xSalty.shape"
   ]
  },
  {
   "cell_type": "code",
   "execution_count": null,
   "metadata": {},
   "outputs": [],
   "source": [
    "#some quick checks\n",
    "X_Spicy = pd.DataFrame(np.real(xSpicy))\n",
    "X_Spicy.columns = np.hstack((['Timestamp'],ySpicy))\n",
    "X_Spicy.describe()"
   ]
  },
  {
   "cell_type": "code",
   "execution_count": null,
   "metadata": {},
   "outputs": [],
   "source": [
    "with pd.option_context('display.max_rows',None,'display.max_columns',None):\n",
    "    display(pd.DataFrame(pd.DataFrame(X_Spicy).head()))"
   ]
  },
  {
   "cell_type": "code",
   "execution_count": null,
   "metadata": {},
   "outputs": [],
   "source": [
    "X_Salty = pd.DataFrame(np.real(xSalty))\n",
    "X_Salty.columns = np.hstack((['Timestamp'],ySalty))\n",
    "X_Salty.describe()"
   ]
  },
  {
   "cell_type": "markdown",
   "metadata": {},
   "source": [
    "### Analyze the Dataset"
   ]
  },
  {
   "cell_type": "code",
   "execution_count": null,
   "metadata": {},
   "outputs": [],
   "source": []
  },
  {
   "cell_type": "markdown",
   "metadata": {},
   "source": [
    "### Separate Into Input and Output"
   ]
  },
  {
   "cell_type": "code",
   "execution_count": null,
   "metadata": {},
   "outputs": [],
   "source": []
  },
  {
   "cell_type": "markdown",
   "metadata": {},
   "source": [
    "### Encoding the Input"
   ]
  },
  {
   "cell_type": "code",
   "execution_count": null,
   "metadata": {},
   "outputs": [],
   "source": []
  },
  {
   "cell_type": "markdown",
   "metadata": {},
   "source": [
    "### Encoding the Output"
   ]
  },
  {
   "cell_type": "code",
   "execution_count": null,
   "metadata": {},
   "outputs": [],
   "source": []
  },
  {
   "cell_type": "markdown",
   "metadata": {},
   "source": [
    "### Split into Test and Train"
   ]
  },
  {
   "cell_type": "code",
   "execution_count": null,
   "metadata": {},
   "outputs": [],
   "source": []
  },
  {
   "cell_type": "markdown",
   "metadata": {},
   "source": [
    "### Feature Scaling"
   ]
  },
  {
   "cell_type": "code",
   "execution_count": null,
   "metadata": {},
   "outputs": [],
   "source": []
  },
  {
   "cell_type": "markdown",
   "metadata": {},
   "source": [
    "## Random Forest and SVM"
   ]
  },
  {
   "cell_type": "markdown",
   "metadata": {},
   "source": [
    "### Importing the Models"
   ]
  },
  {
   "cell_type": "code",
   "execution_count": null,
   "metadata": {},
   "outputs": [],
   "source": []
  },
  {
   "cell_type": "markdown",
   "metadata": {},
   "source": [
    "### Train and Evaluate the Models"
   ]
  },
  {
   "cell_type": "code",
   "execution_count": null,
   "metadata": {},
   "outputs": [],
   "source": []
  },
  {
   "cell_type": "markdown",
   "metadata": {},
   "source": [
    "## ANN"
   ]
  },
  {
   "cell_type": "markdown",
   "metadata": {},
   "source": [
    "### Initialize the ANN"
   ]
  },
  {
   "cell_type": "code",
   "execution_count": null,
   "metadata": {},
   "outputs": [],
   "source": []
  },
  {
   "cell_type": "markdown",
   "metadata": {},
   "source": [
    "### Adding the Input Layer"
   ]
  },
  {
   "cell_type": "code",
   "execution_count": null,
   "metadata": {},
   "outputs": [],
   "source": []
  },
  {
   "cell_type": "markdown",
   "metadata": {},
   "source": [
    "### Adding the Hidden Layers"
   ]
  },
  {
   "cell_type": "code",
   "execution_count": null,
   "metadata": {},
   "outputs": [],
   "source": []
  },
  {
   "cell_type": "markdown",
   "metadata": {},
   "source": [
    "### Adding the Output Layer"
   ]
  },
  {
   "cell_type": "code",
   "execution_count": null,
   "metadata": {},
   "outputs": [],
   "source": []
  },
  {
   "cell_type": "markdown",
   "metadata": {},
   "source": [
    "### Compiling the ANN"
   ]
  },
  {
   "cell_type": "code",
   "execution_count": null,
   "metadata": {},
   "outputs": [],
   "source": []
  },
  {
   "cell_type": "markdown",
   "metadata": {},
   "source": [
    "### Training the ANN"
   ]
  },
  {
   "cell_type": "code",
   "execution_count": null,
   "metadata": {},
   "outputs": [],
   "source": []
  },
  {
   "cell_type": "markdown",
   "metadata": {},
   "source": [
    "### Visualization of Validation"
   ]
  },
  {
   "cell_type": "code",
   "execution_count": null,
   "metadata": {},
   "outputs": [],
   "source": []
  },
  {
   "cell_type": "markdown",
   "metadata": {},
   "source": [
    "### Using the Model to Predict"
   ]
  },
  {
   "cell_type": "code",
   "execution_count": null,
   "metadata": {},
   "outputs": [],
   "source": []
  },
  {
   "cell_type": "markdown",
   "metadata": {},
   "source": [
    "### Confusion Matrix"
   ]
  },
  {
   "cell_type": "code",
   "execution_count": null,
   "metadata": {},
   "outputs": [],
   "source": []
  }
 ],
 "metadata": {
  "kernelspec": {
   "display_name": "Python 3",
   "language": "python",
   "name": "python3"
  },
  "language_info": {
   "codemirror_mode": {
    "name": "ipython",
    "version": 3
   },
   "file_extension": ".py",
   "mimetype": "text/x-python",
   "name": "python",
   "nbconvert_exporter": "python",
   "pygments_lexer": "ipython3",
   "version": "3.12.1"
  }
 },
 "nbformat": 4,
 "nbformat_minor": 2
}
